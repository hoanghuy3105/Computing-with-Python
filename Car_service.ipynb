{
 "cells": [
  {
   "cell_type": "code",
   "execution_count": null,
   "metadata": {},
   "outputs": [
    {
     "name": "stdout",
     "output_type": "stream",
     "text": [
      "***** Menu Service *****:\n",
      "1) Oil Change\n",
      "2) Tire Change\n",
      "3) Yearly Maintenance\n",
      "4) Tire Rotation\n",
      "5) No need service\n",
      "Please select an option from the menu above 6\n",
      "ERROR!!!! Please select valid option\n"
     ]
    }
   ],
   "source": [
    "Oil_Change = 1\n",
    "Tire_Change = 2\n",
    "Yearly_Maintenance = 3\n",
    "Tire_Rotation = 4\n",
    "No_Selection = 5\n",
    "\n",
    "def display_menu():\n",
    "    print('***** Menu Service *****:')\n",
    "    print('1) Oil Change')\n",
    "    print('2) Tire Change')\n",
    "    print('3) Yearly Maintenance')\n",
    "    print('4) Tire Rotation')\n",
    "    print('5) No need service')\n",
    "def menu_selection():\n",
    "    choice = 0\n",
    "    display_menu()\n",
    "    while choice != No_Selection:\n",
    "        choice = int(input('Please select an option from the menu above '))\n",
    "        if choice == Oil_Change:\n",
    "            print('\\tOil change for your vehicle is complete')\n",
    "        elif choice == Tire_Change:\n",
    "            print('\\tTire change for your vehicle is complete')\n",
    "        elif choice == Yearly_Maintenance:\n",
    "            print('\\tYearly maintenance for your vehicle is complete')\n",
    "        elif choice == Tire_Rotation:\n",
    "            print('\\tTire Rotation for your vehicle is complete')\n",
    "        elif choice == No_Selection:\n",
    "            print('\\tNo option selected. Exiting program!')\n",
    "        else:\n",
    "            print('ERROR!!!! Please select valid option')\n",
    "    \n",
    "    goodbye()\n",
    "            \n",
    "def goodbye():\n",
    "    print('Thank you for your business')\n",
    "    print('\\tHave a good day')\n",
    "    print('\\tGood bye')\n",
    "\n",
    "menu_selection()\n"
   ]
  },
  {
   "cell_type": "code",
   "execution_count": 1,
   "metadata": {},
   "outputs": [],
   "source": []
  },
  {
   "cell_type": "code",
   "execution_count": null,
   "metadata": {},
   "outputs": [],
   "source": []
  }
 ],
 "metadata": {
  "kernelspec": {
   "display_name": "Python 3",
   "language": "python",
   "name": "python3"
  },
  "language_info": {
   "codemirror_mode": {
    "name": "ipython",
    "version": 3
   },
   "file_extension": ".py",
   "mimetype": "text/x-python",
   "name": "python",
   "nbconvert_exporter": "python",
   "pygments_lexer": "ipython3",
   "version": "3.7.4"
  }
 },
 "nbformat": 4,
 "nbformat_minor": 2
}
